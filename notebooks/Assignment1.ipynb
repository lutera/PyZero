{
 "cells": [
  {
   "cell_type": "markdown",
   "id": "d7b7de80",
   "metadata": {},
   "source": [
    "Variable Types and Output: Declare four variables, each holding a value of a\n",
    "different data type: integer, float, string, and boolean. Assign values that make\n",
    "sense for each type (e.g., an age, a price, a name, a True/False state). Print the\n",
    "value of each variable followed by its data type obtained using the type()\n",
    "function."
   ]
  },
  {
   "cell_type": "code",
   "execution_count": null,
   "id": "69f3498e",
   "metadata": {},
   "outputs": [],
   "source": [
    "age = 28                \n",
    "price = 19.99           \n",
    "name = \"Kalidas\"          \n",
    "is_member = True        \n",
    "\n",
    "print(age, type(age))\n",
    "print(price, type(price))\n",
    "print(name, type(name))\n",
    "print(is_member, type(is_member))"
   ]
  },
  {
   "cell_type": "markdown",
   "id": "60182617",
   "metadata": {},
   "source": [
    "Get two numbers from the user as input. One should\n",
    "be an integer and the other a float. Calculate and print their sum, difference,product, and the result of dividing the float by the integer. Format the results of\n",
    "calculations to two decimal places using f-strings or the .format() method."
   ]
  },
  {
   "cell_type": "code",
   "execution_count": null,
   "id": "cafdfafd",
   "metadata": {},
   "outputs": [],
   "source": [
    "int_input = int(input(\"Enter an integer: \"))\n",
    "float_input = float(input(\"Enter a float: \"))\n",
    "\n",
    "s = int_input + float_input\n",
    "diff = int_input - float_input\n",
    "prod = int_input * float_input\n",
    "prod_formatted = \"{:.2f}\".format(prod)\n",
    "\n",
    "print(f\"Sum: {s:.2f}\")\n",
    "print(f\"Difference (integer - float): {diff:.2f}\")\n",
    "print(f\"Unformatted Product: {prod}\")\n",
    "print(f\"Formatted Product(using .format()): {prod_formatted}\")\n",
    "\n",
    "if int_input != 0:\n",
    "    div = float_input / int_input\n",
    "    print(f\"Float divided by integer (formatted using .2f): {div:.2f}\")\n",
    "else:\n",
    "    print(\"Float divided by integer: Error (division by zero)\")"
   ]
  },
  {
   "cell_type": "markdown",
   "id": "30cd7dea",
   "metadata": {},
   "source": [
    "Formatted Output (f-strings): Ask the user for their favorite programming\n",
    "language and their experience level (e.g., \"Beginner\", \"Intermediate\"). Use an fstring to create and print a sentence summarizing this information, such as \"You\n",
    "are a [Experience Level] in [Programming Language].\""
   ]
  },
  {
   "cell_type": "code",
   "execution_count": null,
   "id": "e80ae6ff",
   "metadata": {},
   "outputs": [],
   "source": [
    "language = input(\"What's your favorite programming language? \").strip()\n",
    "experience = input(\"What's your experience level (e.g., Beginner, Intermediate)? \").strip()\n",
    "experience2 = int(input(\"How many years of programming experience do you have? \").strip())\n",
    "print(f\"You are a {experience} in {language}.\")\n",
    "\n",
    "print(type(language)\n",
    "      , type(experience)\n",
    "      , type(experience2))"
   ]
  },
  {
   "cell_type": "markdown",
   "id": "e5d143a7",
   "metadata": {},
   "source": [
    "Simple Type Casting: Prompt the user to enter a number as text (e.g., \"105\").\n",
    "Convert this input string to an integer and then to a float using type casting\n",
    "functions like int() and float(). Print the original input and the results of both\n",
    "conversions along with their types."
   ]
  },
  {
   "cell_type": "code",
   "execution_count": null,
   "id": "d4c2f5f6",
   "metadata": {},
   "outputs": [],
   "source": [
    "num = input(\"Enter an integer: \")\n",
    "#above will accept in string format\n",
    "#print(type(num))\n",
    "# Convert to integer\n",
    "num_int = int(num)\n",
    "#convert to float\n",
    "num_float = float(num)\n",
    "print(\"Num Int Type:\", type(num_int))\n",
    "print(\"Num Float Type:\", type(num_float))\n",
    "print(\"Num Int Value:\", num_int)\n",
    "print(\"Num Float Value:\", num_float)"
   ]
  },
  {
   "cell_type": "markdown",
   "id": "88e46cbd",
   "metadata": {},
   "source": []
  }
 ],
 "metadata": {
  "kernelspec": {
   "display_name": "Python 3",
   "language": "python",
   "name": "python3"
  },
  "language_info": {
   "codemirror_mode": {
    "name": "ipython",
    "version": 3
   },
   "file_extension": ".py",
   "mimetype": "text/x-python",
   "name": "python",
   "nbconvert_exporter": "python",
   "pygments_lexer": "ipython3",
   "version": "3.11.4"
  }
 },
 "nbformat": 4,
 "nbformat_minor": 5
}
