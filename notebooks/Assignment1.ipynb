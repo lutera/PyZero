{
 "cells": [
  {
   "cell_type": "markdown",
   "id": "d7b7de80",
   "metadata": {},
   "source": [
    "1. Variable Types and Output: Declare four variables, each holding a value of a\n",
    "different data type: integer, float, string, and boolean. Assign values that make\n",
    "sense for each type (e.g., an age, a price, a name, a True/False state). Print the\n",
    "value of each variable followed by its data type obtained using the type()\n",
    "function."
   ]
  },
  {
   "cell_type": "code",
   "execution_count": 15,
   "id": "69f3498e",
   "metadata": {},
   "outputs": [
    {
     "name": "stdout",
     "output_type": "stream",
     "text": [
      "28 <class 'int'>\n",
      "19.99 <class 'float'>\n",
      "Kalidas <class 'str'>\n",
      "True <class 'bool'>\n"
     ]
    }
   ],
   "source": [
    "age = 28                \n",
    "price = 19.99           \n",
    "name = \"Kalidas\"          \n",
    "is_member = True        \n",
    "\n",
    "print(age, type(age))\n",
    "print(price, type(price))\n",
    "print(name, type(name))\n",
    "print(is_member, type(is_member))"
   ]
  },
  {
   "cell_type": "markdown",
   "id": "60182617",
   "metadata": {},
   "source": [
    "2. Get two numbers from the user as input. One should\n",
    "be an integer and the other a float. Calculate and print their sum, difference,product, and the result of dividing the float by the integer. Format the results of\n",
    "calculations to two decimal places using f-strings or the .format() method."
   ]
  },
  {
   "cell_type": "code",
   "execution_count": 16,
   "id": "cafdfafd",
   "metadata": {},
   "outputs": [
    {
     "name": "stdout",
     "output_type": "stream",
     "text": [
      "Sum: 212.23\n",
      "Difference (integer - float): 211.77\n",
      "Unformatted Product: 49.65676\n",
      "Formatted Product(using .format()): 49.66\n",
      "Float divided by integer (formatted using .2f): 0.00\n"
     ]
    }
   ],
   "source": [
    "int_input = int(input(\"Enter an integer: \"))\n",
    "float_input = float(input(\"Enter a float: \"))\n",
    "\n",
    "s = int_input + float_input\n",
    "diff = int_input - float_input\n",
    "prod = int_input * float_input\n",
    "prod_formatted = \"{:.2f}\".format(prod)\n",
    "\n",
    "print(f\"Sum: {s:.2f}\")\n",
    "print(f\"Difference (integer - float): {diff:.2f}\")\n",
    "print(f\"Unformatted Product: {prod}\")\n",
    "print(f\"Formatted Product(using .format()): {prod_formatted}\")\n",
    "\n",
    "if int_input != 0:\n",
    "    div = float_input / int_input\n",
    "    print(f\"Float divided by integer (formatted using .2f): {div:.2f}\")\n",
    "else:\n",
    "    print(\"Float divided by integer: Error (division by zero)\")"
   ]
  },
  {
   "cell_type": "markdown",
   "id": "30cd7dea",
   "metadata": {},
   "source": [
    "3. Formatted Output (f-strings): Ask the user for their favorite programming\n",
    "language and their experience level (e.g., \"Beginner\", \"Intermediate\"). Use an fstring to create and print a sentence summarizing this information, such as \"You\n",
    "are a [Experience Level] in [Programming Language].\""
   ]
  },
  {
   "cell_type": "code",
   "execution_count": 17,
   "id": "e80ae6ff",
   "metadata": {},
   "outputs": [
    {
     "name": "stdout",
     "output_type": "stream",
     "text": [
      "You are a be in c.\n",
      "<class 'str'> <class 'str'> <class 'int'>\n"
     ]
    }
   ],
   "source": [
    "language = input(\"What's your favorite programming language? \").strip()\n",
    "experience = input(\"What's your experience level (e.g., Beginner, Intermediate)? \").strip()\n",
    "experience2 = int(input(\"How many years of programming experience do you have? \").strip())\n",
    "print(f\"You are a {experience} in {language}.\")\n",
    "\n",
    "print(type(language)\n",
    "      , type(experience)\n",
    "      , type(experience2))"
   ]
  },
  {
   "cell_type": "markdown",
   "id": "e5d143a7",
   "metadata": {},
   "source": [
    "4. Simple Type Casting: Prompt the user to enter a number as text (e.g., \"105\").\n",
    "Convert this input string to an integer and then to a float using type casting\n",
    "functions like int() and float(). Print the original input and the results of both\n",
    "conversions along with their types."
   ]
  },
  {
   "cell_type": "code",
   "execution_count": 18,
   "id": "d4c2f5f6",
   "metadata": {},
   "outputs": [
    {
     "name": "stdout",
     "output_type": "stream",
     "text": [
      "Num Int Type: <class 'int'>\n",
      "Num Float Type: <class 'float'>\n",
      "Num Int Value: 233\n",
      "Num Float Value: 233.0\n"
     ]
    }
   ],
   "source": [
    "num = input(\"Enter an integer: \")\n",
    "#above will accept in string format\n",
    "#print(type(num))\n",
    "# Convert to integer\n",
    "num_int = int(num)\n",
    "#convert to float\n",
    "num_float = float(num)\n",
    "print(\"Num Int Type:\", type(num_int))\n",
    "print(\"Num Float Type:\", type(num_float))\n",
    "print(\"Num Int Value:\", num_int)\n",
    "print(\"Num Float Value:\", num_float)"
   ]
  },
  {
   "cell_type": "markdown",
   "id": "88e46cbd",
   "metadata": {},
   "source": [
    "5. Function Introduction: Write a Python function called greet(name) that takes one\n",
    "string argument name and prints a simple greeting message like \"Hello, [name]!\n",
    "Welcome to Python programming.\" Call this function with a name provided by\n",
    "the user input"
   ]
  },
  {
   "cell_type": "code",
   "execution_count": 19,
   "id": "76fe0d81",
   "metadata": {},
   "outputs": [
    {
     "name": "stdout",
     "output_type": "stream",
     "text": [
      "Hello, Cruise! Welcome to Python programming.\n"
     ]
    }
   ],
   "source": [
    "def greet(name):\n",
    "    print(f\"Hello, {name}! Welcome to Python programming.\")\n",
    "\n",
    "user_name = input(\"Enter your name: \").strip()\n",
    "greet(user_name)"
   ]
  },
  {
   "cell_type": "markdown",
   "id": "e4a3b0f2",
   "metadata": {},
   "source": [
    "6. Handling Multiple Inputs on One Line: Ask the user to enter three numbers on a\n",
    "single line, separated by spaces (e.g., \"10 20 30\"). Read this input, split the string\n",
    "into individual number strings, convert them to integers, and calculate and print\n",
    "their average."
   ]
  },
  {
   "cell_type": "code",
   "execution_count": 21,
   "id": "c3534889",
   "metadata": {},
   "outputs": [
    {
     "name": "stdout",
     "output_type": "stream",
     "text": [
      "All entries must be valid integers.\n"
     ]
    }
   ],
   "source": [
    "numbers_input = input(\"Enter three integers separated by spaces (e.g., '10 20 30'): \").strip()\n",
    "parts = numbers_input.split()\n",
    "\n",
    "if len(parts) != 3:\n",
    "    print(\"Please enter three numbers.\")\n",
    "else:\n",
    "    try:\n",
    "        nums_list = [int(x) for x in parts]\n",
    "        average = sum(nums_list) / 3\n",
    "        print(f\"Numbers: {nums_list}\")\n",
    "        print(f\"Average: {average:.2f}\")\n",
    "    except ValueError:\n",
    "        print(\"All entries must be valid integers.\")"
   ]
  },
  {
   "cell_type": "markdown",
   "id": "a4cf6092",
   "metadata": {},
   "source": [
    "7. Basic Error Handling for Input: Write a program that asks the user to enter an\n",
    "integer. Use a try-except block to specifically handle a potential ValueError if the\n",
    "user enters input that cannot be converted to an integer (e.g., text). Print a\n",
    "success message if conversion is successful, and a helpful error message\n",
    "otherwise."
   ]
  },
  {
   "cell_type": "code",
   "execution_count": 23,
   "id": "3b6e56c6",
   "metadata": {},
   "outputs": [
    {
     "name": "stdout",
     "output_type": "stream",
     "text": [
      "Error: '2.332' is not a valid integer. Please enter a whole number (e.g., -3, 0, 42).\n"
     ]
    }
   ],
   "source": [
    "user_input = input(\"Please enter an integer: \").strip()\n",
    "try:\n",
    "    user_int = int(user_input)\n",
    "except ValueError:\n",
    "    print(f\"Error: '{user_input}' is not a valid integer. Please enter a whole number (e.g., -3, 0, 42).\")\n",
    "else:\n",
    "    print(f\"Success: you entered the integer {user_int} (type: {type(user_int)})\")"
   ]
  },
  {
   "cell_type": "markdown",
   "id": "fca9aa45",
   "metadata": {},
   "source": [
    "8. Combined Basics and Error Handling: Create a program that calculates a\n",
    "person's Body Mass Index (BMI). Prompt the user for their height in meters and\n",
    "weight in kilograms. Implement robust error handling using a try-except block to\n",
    "catch ValueError for non-numeric input (in both height and weight) and\n",
    "ZeroDivisionError if the height entered is zero. Print the calculated BMI value or\n",
    "an appropriate error message indicating the specific issue"
   ]
  },
  {
   "cell_type": "code",
   "execution_count": 24,
   "id": "d6ba8045",
   "metadata": {},
   "outputs": [
    {
     "name": "stdout",
     "output_type": "stream",
     "text": [
      "Your BMI is: 27.77\n"
     ]
    }
   ],
   "source": [
    "try:\n",
    "    height_str = input(\"Enter your height in meters (e.g., 1.75): \").strip()\n",
    "    weight_str = input(\"Enter your weight in kilograms (e.g., 70.5): \").strip()\n",
    " \n",
    "    height = float(height_str)\n",
    "    weight = float(weight_str)\n",
    "\n",
    "    if height == 0:\n",
    "        raise ZeroDivisionError(\"Height cannot be zero.\")\n",
    "    if height < 0 or weight < 0:\n",
    "        raise ValueError(\"Height and weight must be non-negative numbers.\")\n",
    "\n",
    "    bmi = weight / (height ** 2)\n",
    "except ValueError as ve:\n",
    "    print(f\"Invalid input: {ve}. Please enter numeric values for height and weight (e.g., 1.75, 70).\")\n",
    "except ZeroDivisionError:\n",
    "    print(\"Error: Height cannot be zero. BMI calculation would divide by zero.\")\n",
    "else:\n",
    "    print(f\"Your BMI is: {bmi:.2f}\")"
   ]
  },
  {
   "cell_type": "markdown",
   "id": "863da876",
   "metadata": {},
   "source": [
    "9. List Indexing and Slicing: Create a list containing the names of five different\n",
    "animal names. Print the animal at index 0, the animal at index 3, and a slice\n",
    "containing the last two animals in the list."
   ]
  },
  {
   "cell_type": "code",
   "execution_count": 25,
   "id": "b0811eb3",
   "metadata": {},
   "outputs": [
    {
     "name": "stdout",
     "output_type": "stream",
     "text": [
      "Animal at index 0: lion\n",
      "Animal at index 3: tiger\n",
      "Last two animals slice: ['tiger', 'moneky']\n"
     ]
    }
   ],
   "source": [
    "animals = ['lion', 'elephant', 'snake', 'tiger', 'moneky']\n",
    "\n",
    "print(\"Animal at index 0:\", animals[0])\n",
    "print(\"Animal at index 3:\", animals[3])\n",
    "print(\"Last two animals slice:\", animals[-2:])"
   ]
  },
  {
   "cell_type": "markdown",
   "id": "9d5ef0fc",
   "metadata": {},
   "source": [
    "10. Tuple Creation and Access: Create a tuple containing the names of three\n",
    "different countries. Print the country at the first index and the country at the third\n",
    "index from the tuple using indexing."
   ]
  },
  {
   "cell_type": "code",
   "execution_count": 26,
   "id": "305c3806",
   "metadata": {},
   "outputs": [
    {
     "name": "stdout",
     "output_type": "stream",
     "text": [
      "Country at index 0: India\n",
      "Country at index 2: Fiji\n"
     ]
    }
   ],
   "source": [
    "countries = ('India', 'Colombia', 'Fiji')\n",
    "\n",
    "print(\"Country at index 0:\", countries[0])\n",
    "print(\"Country at index 2:\", countries[2])"
   ]
  },
  {
   "cell_type": "markdown",
   "id": "42d4814d",
   "metadata": {},
   "source": [
    "11. String Indexing and Slicing: Create a string variable city = \"Metropolis\". Print the\n",
    "first character, the character at index 5, and a slice containing characters from\n",
    "index 2 up to (but not including) index 6."
   ]
  },
  {
   "cell_type": "code",
   "execution_count": 27,
   "id": "1c61ffb4",
   "metadata": {},
   "outputs": [
    {
     "name": "stdout",
     "output_type": "stream",
     "text": [
      "First character: M\n",
      "Character at index 5: p\n",
      "Slice city[2:6]: trop\n"
     ]
    }
   ],
   "source": [
    "city = \"Metropolis\"\n",
    "print(\"First character:\", city[0])\n",
    "print(\"Character at index 5:\", city[5])\n",
    "print(\"Slice city[2:6]:\", city[2:6])"
   ]
  },
  {
   "cell_type": "markdown",
   "id": "97652751",
   "metadata": {},
   "source": [
    "12. Tuple and List Conversion: Given a tuple (10, 20, 30), convert it into a list. Append\n",
    "the number 40 to the list. Then, convert the modified list back into a tuple. Print\n",
    "the final tuple."
   ]
  },
  {
   "cell_type": "code",
   "execution_count": 28,
   "id": "d7082460",
   "metadata": {},
   "outputs": [
    {
     "name": "stdout",
     "output_type": "stream",
     "text": [
      "(10, 20, 30, 40)\n"
     ]
    }
   ],
   "source": [
    "tuple_original = (10, 20, 30)\n",
    "list_converted = list(tuple_original)\n",
    "list_converted.append(40)\n",
    "final_tuple = tuple(list_converted)\n",
    "print(final_tuple)"
   ]
  },
  {
   "cell_type": "markdown",
   "id": "a50f4ca5",
   "metadata": {},
   "source": [
    "13. Palindrome Check (Strings): Given a string, write a Python function to determine\n",
    "if it is a palindrome. A palindrome reads the same forwards and backwards,\n",
    "ignoring case and spaces (e.g., \"Level\", \"A man, a plan, a canal: Panama\")."
   ]
  },
  {
   "cell_type": "code",
   "execution_count": 33,
   "id": "2871befc",
   "metadata": {},
   "outputs": [
    {
     "name": "stdout",
     "output_type": "stream",
     "text": [
      "'Level' -> True\n",
      "'A man, a plan, a canal: Panama' -> True\n",
      "'Metropolis' -> False\n",
      "'Racecar' -> True\n",
      "'No lemon, no melon' -> True\n",
      "'12321' -> True\n",
      "'12345' -> False\n",
      "True\n",
      "True\n"
     ]
    }
   ],
   "source": [
    "def is_palindrome(s: str) -> bool:\n",
    "    cleaned = ''.join(ch.lower() for ch in s if ch.isalnum())\n",
    "    return cleaned == cleaned[::-1]\n",
    "\n",
    "\n",
    "# Example test strings\n",
    "_test_strings = [\n",
    "    \"Level\",\n",
    "    \"A man, a plan, a canal: Panama\",\n",
    "    \"Metropolis\",\n",
    "    \"Racecar\",\n",
    "    \"No lemon, no melon\",\n",
    "    \"12321\",\n",
    "    \"12345\"\n",
    "]\n",
    "\n",
    "for ts in _test_strings:\n",
    "    print(f\"'{ts}' -> {is_palindrome(ts)}\")\n",
    "\n",
    "user_str = input(\"Enter a string to check for palindrome: \")\n",
    "print(is_palindrome(user_str))"
   ]
  },
  {
   "cell_type": "markdown",
   "id": "2fa67e85",
   "metadata": {},
   "source": [
    "14. Removing Duplicates (Lists): Write a Python program that takes a list which may\n",
    "contain duplicate elements (e.g., [1, 2, 2, 3, 4, 3, 5]) and returns a new list with all\n",
    "duplicates removed, while preserving the original order of the first occurrence of\n",
    "each element."
   ]
  },
  {
   "cell_type": "code",
   "execution_count": 49,
   "id": "62a11591",
   "metadata": {},
   "outputs": [
    {
     "name": "stdout",
     "output_type": "stream",
     "text": [
      "Original sample: [1, 2, 2, 3, 4, 3, 5]\n",
      "Unique sample: [1, 2, 3, 4, 5]\n",
      "Original animals: ['lion', 'elephant', 'snake', 'tiger', 'moneky', 'lion', 'lion', 'lion', 'lion', 'lion', 'lion', 'lion']\n",
      "Unique animals: ['lion', 'elephant', 'snake', 'tiger', 'moneky']\n",
      "Animals after adding duplicate 'lion': ['lion', 'elephant', 'snake', 'tiger', 'moneky', 'lion', 'lion', 'lion', 'lion', 'lion', 'lion', 'lion', 'lion']\n",
      "Unique animals after removing duplicates: ['lion', 'elephant', 'snake', 'tiger', 'moneky']\n",
      "Original sample: [1, 'tiger', 2, 0.22, 4, 3, 5, 5, 'tiger']\n",
      "Unique sample: [1, 'tiger', 2, 0.22, 4, 3, 5]\n"
     ]
    }
   ],
   "source": [
    "def remove_duplicates(seq):\n",
    "    list_unique = set()     #this code was added to handle unhashable types like tuples, lists, dicts, i think?? check again how to break this\n",
    "    list_input = []         #can tuple be inside a list? yes\n",
    "    result = []\n",
    "    for item in seq:\n",
    "        try:\n",
    "            if item not in list_unique:\n",
    "                list_unique.add(item)\n",
    "                result.append(item)\n",
    "        except TypeError:\n",
    "            if item not in list_input:\n",
    "                list_input.append(item)\n",
    "                result.append(item)\n",
    "    return result\n",
    "\n",
    "# Example usage with the provided sample and the existing 'animals' list\n",
    "sample = [1, 2, 2, 3, 4, 3, 5]\n",
    "unique_sample = remove_duplicates(sample)\n",
    "print(\"Original sample:\", sample)\n",
    "#print list_unique - what is this?\n",
    "print(\"Unique sample:\", unique_sample)\n",
    "\n",
    "# Use existing variable 'animals' without overwriting it\n",
    "unique_animals = remove_duplicates(animals)\n",
    "print(\"Original animals:\", animals)\n",
    "print(\"Unique animals:\", unique_animals)\n",
    "\n",
    "animals.append('lion')  # Adding a duplicate for testing;\n",
    "unique_animals = remove_duplicates(animals)\n",
    "print(\"Animals after adding duplicate 'lion':\", animals)\n",
    "print(\"Unique animals after removing duplicates:\", unique_animals)\n",
    "\n",
    "sample2 = [1, 'tiger', 2, 0.22, 4, 3, 5, 5, 'tiger']\n",
    "unique_sample = remove_duplicates(sample2)\n",
    "print(\"Original sample:\", sample2)\n",
    "#print list_unique - what is this?\n",
    "print(\"Unique sample:\", unique_sample)\n"
   ]
  },
  {
   "cell_type": "markdown",
   "id": "fc61ca2a",
   "metadata": {},
   "source": [
    "15. List Intersection: Given two lists of numbers, write a Python function to find and\n",
    "return a new list containing only the elements that are common to both input\n",
    "lists (their intersection)."
   ]
  },
  {
   "cell_type": "code",
   "execution_count": null,
   "id": "1accb926",
   "metadata": {},
   "outputs": [
    {
     "name": "stdout",
     "output_type": "stream",
     "text": [
      "Intersection (sample, sample2): [1, 2, 3, 4, 5]\n",
      "Intersection ([1,2,3],[2,3,4]): [2, 3]\n"
     ]
    }
   ],
   "source": [
    "def list_intersection(list1, list2):\n",
    "    set2 = set(list2)\n",
    "    seen = set()\n",
    "    result = []\n",
    "    for item in list1:\n",
    "        if item in set2 and item not in seen:\n",
    "            result.append(item)\n",
    "            seen.add(item)\n",
    "    return result\n",
    "\n",
    "# from previous cells. run them firs or it fails\n",
    "common_sample = list_intersection(sample, sample2)\n",
    "print(\"Intersection (sample, sample2):\", common_sample)\n",
    "\n",
    "# simple example\n",
    "#print(\"Intersection ([1,2,3],[2,3,4]):\", list_intersection([1,2,3],[2,3,4]))"
   ]
  },
  {
   "cell_type": "markdown",
   "id": "bbfda43b",
   "metadata": {},
   "source": [
    "16. Element Frequency (Lists to Dictionary): Write a Python program that takes a list\n",
    "of elements (e.g., ['apple', 'banana', 'apple', 'orange', 'banana', 'apple']) and\n",
    "returns a dictionary. The keys of the dictionary should be the unique elements\n",
    "from the list, and the values should be their corresponding frequencies (how\n",
    "many times each element appears)"
   ]
  },
  {
   "cell_type": "code",
   "execution_count": null,
   "id": "75bf0c1f",
   "metadata": {},
   "outputs": [
    {
     "name": "stdout",
     "output_type": "stream",
     "text": [
      "\n",
      "animals: ['lion', 'elephant', 'snake', 'tiger', 'moneky', 'lion', 'lion', 'lion', 'lion', 'lion', 'lion', 'lion', 'lion']\n",
      "1\n",
      "Frequencies (animals): {'lion': 9, 'elephant': 1, 'snake': 1, 'tiger': 1, 'moneky': 1}\n"
     ]
    }
   ],
   "source": [
    "def element_frequency(lst):\n",
    "#if there there are tuples or lists inside lst, this will fail\n",
    "    freq = {}\n",
    "    for item in lst:\n",
    "        freq[item] = freq.get(item, 0) + 1    \n",
    "    #print entry with value 'tiger' from the dictionary freq\n",
    "    #print(freq.get(\"tiger\", 0))\n",
    "    return freq\n",
    "\n",
    "\n",
    "# Examples using existing notebook variables\n",
    "#print(\"sample:\", sample)\n",
    "#print(\"Frequencies (sample):\", element_frequency(sample))\n",
    "\n",
    "\n",
    "#print(\"\\nsample2:\", sample2)\n",
    "#print(\"Frequencies (sample2):\", element_frequency(sample2))\n",
    "\n",
    "print(\"\\nanimals:\", animals)\n",
    "print(\"Frequencies (animals):\", element_frequency(animals))\n",
    "\n",
    "\n",
    "\n"
   ]
  }
 ],
 "metadata": {
  "kernelspec": {
   "display_name": "Python 3",
   "language": "python",
   "name": "python3"
  },
  "language_info": {
   "codemirror_mode": {
    "name": "ipython",
    "version": 3
   },
   "file_extension": ".py",
   "mimetype": "text/x-python",
   "name": "python",
   "nbconvert_exporter": "python",
   "pygments_lexer": "ipython3",
   "version": "3.11.4"
  }
 },
 "nbformat": 4,
 "nbformat_minor": 5
}
