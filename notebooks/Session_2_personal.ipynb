{
    "cells": [
        {
            "cell_type": "markdown",
            "metadata": {},
            "source": [
                "# Session 2: Personal Notebook\n",
                "This notebook contains various Python exercises and examples related to the course."
            ]
        },
        {
            "cell_type": "code",
            "execution_count": null,
            "metadata": {},
            "outputs": [],
            "source": [
                "i = 10\n",
                "print(i)\n",
                "print(id(i))\n",
                "print(type(i))\n",
                "i = 20\n",
                "print(i)\n",
                "print(id(i))\n",
                "k = 10\n",
                "k = i + 10\n",
                "i = i + 10\n",
                "j = 20\n",
                "print(i)\n",
                "print(id(i))\n",
                "print(j)\n",
                "print(id(j))\n",
                "print(k)\n",
                "print(id(k))"
            ]
        },
        {
            "cell_type": "code",
            "execution_count": null,
            "metadata": {},
            "outputs": [],
            "source": [
                "x = '10'\n",
                "x * 10  # repetitions"
            ]
        },
        {
            "cell_type": "markdown",
            "metadata": {},
            "source": [
                "## Formatting\n",
                "This section demonstrates string formatting in Python."
            ]
        },
        {
            "cell_type": "code",
            "execution_count": null,
            "metadata": {},
            "outputs": [],
            "source": [
                "name = 'Alice'\n",
                "age = 30\n",
                "pi = 3.14159\n",
                "print(f'Name: {name:<5s}, Age: {age:03d}, Pi: {pi:.2f}')\n",
                "print('Name: {:<10s}, Age: {:03d}, Pi: {:.2f}'.format(name, age, pi))"
            ]
        },
        {
            "cell_type": "markdown",
            "metadata": {},
            "source": [
                "## Value, Type and ID\n",
                "This section explores the value, type, and identity of variables."
            ]
        },
        {
            "cell_type": "code",
            "execution_count": null,
            "metadata": {},
            "outputs": [],
            "source": [
                "print(type(x))\n",
                "print(id(x))"
            ]
        },
        {
            "cell_type": "code",
            "execution_count": null,
            "metadata": {},
            "outputs": [],
            "source": [
                "number = 314  # value of number\n",
                "print(number)\n",
                "print(type(number))\n",
                "print(id(number))  # identity of number\n",
                "number = 23\n",
                "print(id(number))"
            ]
        },
        {
            "cell_type": "code",
            "execution_count": null,
            "metadata": {},
            "outputs": [],
            "source": [
                "x = 10\n",
                "print(id(x))\n",
                "y = 10\n",
                "print(id(y))\n",
                "y = 10\n",
                "print(id(y))\n",
                "z = x\n",
                "print(id(z))\n",
                "y = 20\n",
                "print(id(y))\n",
                "x = 20\n",
                "print(id(x))"
            ]
        },
        {
            "cell_type": "markdown",
            "metadata": {},
            "source": [
                "## Tuples\n",
                "This section demonstrates the use of tuples in Python."
            ]
        },
        {
            "cell_type": "code",
            "execution_count": null,
            "metadata": {},
            "outputs": [],
            "source": [
                "student = ('Rahul', 101, 'Section 2')\n",
                "print(student)\n",
                "print(type(student))"
            ]
        },
        {
            "cell_type": "code",
            "execution_count": null,
            "metadata": {},
            "outputs": [],
            "source": [
                "location = (12.9716, 77.5946, 'Bangalore')\n",
                "latitude = location[0]\n",
                "longitude = location[1]\n",
                "city = location[2]\n",
                "print(f'City: {city}')\n",
                "print(f'Coordinates: ({latitude}, {longitude})')"
            ]
        },
        {
            "cell_type": "markdown",
            "metadata": {},
            "source": [
                "## Lists\n",
                "This section demonstrates the use of lists in Python."
            ]
        },
        {
            "cell_type": "code",
            "execution_count": null,
            "metadata": {},
            "outputs": [],
            "source": [
                "fruits = ['apple', 'banana', 'tomato', 'grapes']\n",
                "print(fruits)\n",
                "print(type(fruits))"
            ]
        },
        {
            "cell_type": "code",
            "execution_count": null,
            "metadata": {},
            "outputs": [],
            "source": [
                "print(id(fruits))\n",
                "print(fruits[3])\n",
                "fruits[2] = 'apricot'\n",
                "print(fruits)\n",
                "print(id(fruits))"
            ]
        },
        {
            "cell_type": "code",
            "execution_count": null,
            "metadata": {},
            "outputs": [],
            "source": [
                "fruits.append('Mango')\n",
                "fruits.append('Orange')\n",
                "fruits"
            ]
        },
        {
            "cell_type": "code",
            "execution_count": null,
            "metadata": {},
            "outputs": [],
            "source": [
                "numbers = list(range(10))\n",
                "print(numbers)\n",
                "print(numbers[0:3])\n",
                "print(numbers[4:])\n",
                "print(numbers[-1])\n",
                "print(numbers[::2])  # no start, no stop, step: 1\n",
                "print(len(numbers))\n",
                "print(max(numbers))\n",
                "print(min(numbers))"
            ]
        },
        {
            "cell_type": "markdown",
            "metadata": {},
            "source": [
                "## Dictionaries\n",
                "This section demonstrates the use of dictionaries in Python."
            ]
        },
        {
            "cell_type": "code",
            "execution_count": null,
            "metadata": {},
            "outputs": [],
            "source": [
                "days = {'1': 'Monday', '2': 'Tuesday', 3: 'Wednesday'}\n",
                "print(days)\n",
                "print(type(days))\n",
                "print(id(days))\n",
                "print(days.keys())\n",
                "print(days.values())\n",
                "print(days[3])"
            ]
        },
        {
            "cell_type": "code",
            "execution_count": null,
            "metadata": {},
            "outputs": [],
            "source": [
                "inventory = {'apple': 24, 'orange': 30, 'banana': 40}\n",
                "print(inventory)\n",
                "inventory['orange'] = 40  # modify, change\n",
                "print(inventory)\n",
                "inventory['apple'] = 30\n",
                "print(inventory)\n",
                "inventory['lemon'] = 60\n",
                "print(inventory)\n",
                "inventory = inventory | {'apricot': 40}\n",
                "print(inventory)\n",
                "print(inventory.get('mango'))"
            ]
        },
        {
            "cell_type": "markdown",
            "metadata": {},
            "source": [
                "## Sets\n",
                "This section demonstrates the use of sets in Python."
            ]
        },
        {
            "cell_type": "code",
            "execution_count": null,
            "metadata": {},
            "outputs": [],
            "source": [
                "nums = {1, 2, 3}\n",
                "print(nums)\n",
                "print(type(nums))\n",
                "print(id(nums))"
            ]
        },
        {
            "cell_type": "code",
            "execution_count": null,
            "metadata": {},
            "outputs": [],
            "source": [
                "listNums = set([1, 2, 3])\n",
                "print(listNums)\n",
                "print(type(listNums))\n",
                "nums == listNums\n",
                "nums.add(4)\n",
                "print(nums)\n",
                "nums.pop()\n",
                "print(nums)\n",
                "days = {'monday', 'tuesday', 'wednesday', 'thursday', 'friday', 'saturday'}\n",
                "daysList = ['monday', 'tuesday', 'wednesday', 'thursday', 'friday', 'saturday']\n",
                "print(days)\n",
                "print(daysList)\n",
                "print(days)\n",
                "print(daysList)\n",
                "print(daysList.sort())"
            ]
        },
        {
            "cell_type": "markdown",
            "metadata": {},
            "source": [
                "## Conditional Statements\n",
                "This section demonstrates the use of conditional statements in Python."
            ]
        },
        {
            "cell_type": "code",
            "execution_count": null,
            "metadata": {},
            "outputs": [],
            "source": [
                "x = False\n",
                "if x:\n",
                "    print('Executing if')  # indentation is at level 1\n",
                "    print('Still in if')\n",
                "else:\n",
                "    print('Executing else')\n",
                "print('Prints regardless of the outcome of the if-else block')  # indentation is at level 0"
            ]
        },
        {
            "cell_type": "code",
            "execution_count": null,
            "metadata": {},
            "outputs": [],
            "source": [
                "purchasePrice = float(input('enter purchase price: '))\n",
                "currentPrice = float(input('current price of Bitcoin'))\n",
                "\n",
                "if currentPrice < purchasePrice:\n",
                "    print('not a good idea to sell')\n",
                "elif currentPrice > purchasePrice:\n",
                "    print('can sell')\n",
                "elif currentPrice == purchasePrice:\n",
                "    print('Wait for a while')\n",
                "else:\n",
                "    print('Wait for a while')"
            ]
        },
        {
            "cell_type": "code",
            "execution_count": null,
            "metadata": {},
            "outputs": [],
            "source": [
                "fruitsList = ['apple', 'banana', 'tomato', 'grapes']  # list\n",
                "print(type(fruitsList))\n",
                "for var in fruitsList:\n",
                "    print('The fruit ' + var, 'has index', fruitsList.index(var))"
            ]
        },
        {
            "cell_type": "code",
            "execution_count": null,
            "metadata": {},
            "outputs": [],
            "source": [
                "fruitsSet = {'apple', 'apricot', 'orange', 'Lemon'}\n",
                "print(type(fruitsSet))\n",
                "for fruit in fruitsSet:\n",
                "    print(fruit)"
            ]
        },
        {
            "cell_type": "code",
            "execution_count": null,
            "metadata": {},
            "outputs": [],
            "source": [
                "numbersList = list(range(10))\n",
                "for num in numbersList:\n",
                "    squared = num ** 2\n",
                "    print(num, 'squared is', squared)"
            ]
        },
        {
            "cell_type": "code",
            "execution_count": null,
            "metadata": {},
            "outputs": [],
            "source": [
                "n = 6\n",
                "while n < 5:\n",
                "    print('Executing while loop')\n",
                "    n = n + 1\n",
                "print('Out of while loop')"
            ]
        },
        {
            "cell_type": "markdown",
            "metadata": {},
            "source": [
                "## Errors and Exceptions\n",
                "This section demonstrates error handling in Python."
            ]
        },
        {
            "cell_type": "code",
            "execution_count": null,
            "metadata": {},
            "outputs": [],
            "source": [
                "while 4 > 5 print('Hello world')"
            ]
        },
        {
            "cell_type": "code",
            "execution_count": null,
            "metadata": {},
            "outputs": [],
            "source": [
                "'2' + 2"
            ]
        },
        {
            "cell_type": "code",
            "execution_count": null,
            "metadata": {},
            "outputs": [],
            "source": [
                "10 * (1 / 0)"
            ]
        },
        {
            "cell_type": "code",
            "execution_count": null,
            "metadata": {},
            "outputs": [],
            "source": [
                "4 + spam * 3"
            ]
        },
        {
            "cell_type": "code",
            "execution_count": null,
            "metadata": {},
            "outputs": [],
            "source": [
                "while True:\n",
                "    try:\n",
                "        x = int(input('please enter a number: '))\n",
                "        break\n",
                "    except:\n",
                "        print('This is not a valid number')"
            ]
        },
        {
            "cell_type": "code",
            "execution_count": null,
            "metadata": {},
            "outputs": [],
            "source": [
                "a = 1\n",
                "b = int(input('please enter a number: '))\n",
                "if b == 0:\n",
                "    raise ZeroDivisionError('Cannot divide by zero!')\n",
                "print(a / b)"
            ]
        },
        {
            "cell_type": "code",
            "execution_count": null,
            "metadata": {},
            "outputs": [],
            "source": [
                "try:\n",
                "    numerator = 10\n",
                "    denominator = 0\n",
                "    result = numerator / denominator\n",
                "    print(result)\n",
                "except ZeroDivisionError:\n",
                "    print('Denominator cannot be zero')"
            ]
        },
        {
            "cell_type": "code",
            "execution_count": null,
            "metadata": {},
            "outputs": [],
            "source": [
                "dict1 = {1: 'google', 2: 'firefox', 3: 'opera'}\n",
                "print(dict1)\n",
                "print(id(dict1))\n",
                "updateDict = {3: 'Ms Edge'}\n",
                "dict1.update(updateDict)\n",
                "print(dict1)\n",
                "print(id(dict1))"
            ]
        },
        {
            "cell_type": "code",
            "execution_count": null,
            "metadata": {},
            "outputs": [],
            "source": [
                "import math\n",
                "\n",
                "print(type(math.pi))"
            ]
        }
    ],
    "metadata": {
        "kernelspec": {
            "display_name": "Python 3",
            "language": "python",
            "name": "python3"
        },
        "language_info": {
            "codemirror_mode": {
                "name": "ipython",
                "version": 3
            },
            "file_extension": ".py",
            "mimetype": "text/x-python",
            "name": "python",
            "nbconvert_exporter": "python",
            "pygments_lexer": "ipython3",
            "version": "3.8.5"
        }
    },
    "nbformat": 4,
    "nbformat_minor": 4
}