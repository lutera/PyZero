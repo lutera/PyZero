{
    "cells": [
        {
            "cell_type": "markdown",
            "metadata": {},
            "source": [
                "# Session 2: Personal Notebook\n",
                "This notebook contains various Python exercises and examples related to the course."
            ]
        },
        {
            "cell_type": "code",
            "execution_count": 1,
            "metadata": {},
            "outputs": [
                {
                    "name": "stdout",
                    "output_type": "stream",
                    "text": [
                        "10\n",
                        "140707229721672\n",
                        "<class 'int'>\n",
                        "20\n",
                        "140707229721992\n",
                        "30\n",
                        "140707229722312\n",
                        "20\n",
                        "140707229721992\n",
                        "30\n",
                        "140707229722312\n"
                    ]
                }
            ],
            "source": [
                "i = 10\n",
                "print(i)\n",
                "print(id(i))\n",
                "print(type(i))\n",
                "i = 20\n",
                "print(i)\n",
                "print(id(i))\n",
                "k = 10\n",
                "k = i + 10\n",
                "i = i + 10\n",
                "j = 20\n",
                "print(i)\n",
                "print(id(i))\n",
                "print(j)\n",
                "print(id(j))\n",
                "print(k)\n",
                "print(id(k))"
            ]
        },
        {
            "cell_type": "code",
            "execution_count": 2,
            "metadata": {},
            "outputs": [
                {
                    "data": {
                        "text/plain": [
                            "'10101010101010101010'"
                        ]
                    },
                    "execution_count": 2,
                    "metadata": {},
                    "output_type": "execute_result"
                }
            ],
            "source": [
                "x = '10'\n",
                "x * 10  # repetitions"
            ]
        },
        {
            "cell_type": "markdown",
            "metadata": {},
            "source": [
                "## Formatting\n",
                "This section demonstrates string formatting in Python."
            ]
        },
        {
            "cell_type": "code",
            "execution_count": 3,
            "metadata": {},
            "outputs": [
                {
                    "name": "stdout",
                    "output_type": "stream",
                    "text": [
                        "Name: Alice, Age: 030, Pi: 3.14\n",
                        "Name: Alice     , Age: 030, Pi: 3.14\n"
                    ]
                }
            ],
            "source": [
                "name = 'Alice'\n",
                "age = 30\n",
                "pi = 3.14159\n",
                "print(f'Name: {name:<5s}, Age: {age:03d}, Pi: {pi:.2f}')\n",
                "print('Name: {:<10s}, Age: {:03d}, Pi: {:.2f}'.format(name, age, pi))"
            ]
        },
        {
            "cell_type": "markdown",
            "metadata": {},
            "source": [
                "## Value, Type and ID\n",
                "This section explores the value, type, and identity of variables."
            ]
        },
        {
            "cell_type": "code",
            "execution_count": 4,
            "metadata": {},
            "outputs": [
                {
                    "name": "stdout",
                    "output_type": "stream",
                    "text": [
                        "<class 'str'>\n",
                        "1582255907440\n"
                    ]
                }
            ],
            "source": [
                "print(type(x))\n",
                "print(id(x))"
            ]
        },
        {
            "cell_type": "code",
            "execution_count": 5,
            "metadata": {},
            "outputs": [
                {
                    "name": "stdout",
                    "output_type": "stream",
                    "text": [
                        "314\n",
                        "<class 'int'>\n",
                        "1582346960624\n",
                        "140707229722088\n"
                    ]
                }
            ],
            "source": [
                "number = 314  # value of number\n",
                "print(number)\n",
                "print(type(number))\n",
                "print(id(number))  # identity of number\n",
                "number = 23\n",
                "print(id(number))"
            ]
        },
        {
            "cell_type": "code",
            "execution_count": 6,
            "metadata": {},
            "outputs": [
                {
                    "name": "stdout",
                    "output_type": "stream",
                    "text": [
                        "140707229721672\n",
                        "140707229721672\n",
                        "140707229721672\n",
                        "140707229721672\n",
                        "140707229721992\n",
                        "140707229721992\n"
                    ]
                }
            ],
            "source": [
                "x = 10\n",
                "print(id(x))\n",
                "y = 10\n",
                "print(id(y))\n",
                "y = 10\n",
                "print(id(y))\n",
                "z = x\n",
                "print(id(z))\n",
                "y = 20\n",
                "print(id(y))\n",
                "x = 20\n",
                "print(id(x))"
            ]
        },
        {
            "cell_type": "markdown",
            "metadata": {},
            "source": [
                "## Tuples\n",
                "This section demonstrates the use of tuples in Python."
            ]
        },
        {
            "cell_type": "code",
            "execution_count": 7,
            "metadata": {},
            "outputs": [
                {
                    "name": "stdout",
                    "output_type": "stream",
                    "text": [
                        "('Rahul', 101, 'Section 2')\n",
                        "<class 'tuple'>\n"
                    ]
                }
            ],
            "source": [
                "student = ('Rahul', 101, 'Section 2')\n",
                "print(student)\n",
                "print(type(student))"
            ]
        },
        {
            "cell_type": "code",
            "execution_count": 8,
            "metadata": {},
            "outputs": [
                {
                    "name": "stdout",
                    "output_type": "stream",
                    "text": [
                        "City: Bangalore\n",
                        "Coordinates: (12.9716, 77.5946)\n"
                    ]
                }
            ],
            "source": [
                "location = (12.9716, 77.5946, 'Bangalore')\n",
                "latitude = location[0]\n",
                "longitude = location[1]\n",
                "city = location[2]\n",
                "print(f'City: {city}')\n",
                "print(f'Coordinates: ({latitude}, {longitude})')"
            ]
        },
        {
            "cell_type": "markdown",
            "metadata": {},
            "source": [
                "## Lists\n",
                "This section demonstrates the use of lists in Python."
            ]
        },
        {
            "cell_type": "code",
            "execution_count": 9,
            "metadata": {},
            "outputs": [
                {
                    "name": "stdout",
                    "output_type": "stream",
                    "text": [
                        "['apple', 'banana', 'tomato', 'grapes']\n",
                        "<class 'list'>\n"
                    ]
                }
            ],
            "source": [
                "fruits = ['apple', 'banana', 'tomato', 'grapes']\n",
                "print(fruits)\n",
                "print(type(fruits))"
            ]
        },
        {
            "cell_type": "code",
            "execution_count": 10,
            "metadata": {},
            "outputs": [
                {
                    "name": "stdout",
                    "output_type": "stream",
                    "text": [
                        "1582347239936\n",
                        "grapes\n",
                        "['apple', 'banana', 'apricot', 'grapes']\n",
                        "1582347239936\n"
                    ]
                }
            ],
            "source": [
                "print(id(fruits))\n",
                "print(fruits[3])\n",
                "fruits[2] = 'apricot'\n",
                "print(fruits)\n",
                "print(id(fruits))"
            ]
        },
        {
            "cell_type": "code",
            "execution_count": 11,
            "metadata": {},
            "outputs": [
                {
                    "data": {
                        "text/plain": [
                            "['apple', 'banana', 'apricot', 'grapes', 'Mango', 'Orange']"
                        ]
                    },
                    "execution_count": 11,
                    "metadata": {},
                    "output_type": "execute_result"
                }
            ],
            "source": [
                "fruits.append('Mango')\n",
                "fruits.append('Orange')\n",
                "fruits"
            ]
        },
        {
            "cell_type": "code",
            "execution_count": 12,
            "metadata": {},
            "outputs": [
                {
                    "name": "stdout",
                    "output_type": "stream",
                    "text": [
                        "[0, 1, 2, 3, 4, 5, 6, 7, 8, 9]\n",
                        "[0, 1, 2]\n",
                        "[4, 5, 6, 7, 8, 9]\n",
                        "9\n",
                        "[0, 2, 4, 6, 8]\n",
                        "10\n",
                        "9\n",
                        "0\n"
                    ]
                }
            ],
            "source": [
                "numbers = list(range(10))\n",
                "print(numbers)\n",
                "print(numbers[0:3])\n",
                "print(numbers[4:])\n",
                "print(numbers[-1])\n",
                "print(numbers[::2])  # no start, no stop, step: 1\n",
                "print(len(numbers))\n",
                "print(max(numbers))\n",
                "print(min(numbers))"
            ]
        },
        {
            "cell_type": "markdown",
            "metadata": {},
            "source": [
                "## Dictionaries\n",
                "This section demonstrates the use of dictionaries in Python."
            ]
        },
        {
            "cell_type": "code",
            "execution_count": 13,
            "metadata": {},
            "outputs": [
                {
                    "name": "stdout",
                    "output_type": "stream",
                    "text": [
                        "{'1': 'Monday', '2': 'Tuesday', 3: 'Wednesday'}\n",
                        "<class 'dict'>\n",
                        "1582347277056\n",
                        "dict_keys(['1', '2', 3])\n",
                        "dict_values(['Monday', 'Tuesday', 'Wednesday'])\n",
                        "Wednesday\n"
                    ]
                }
            ],
            "source": [
                "days = {'1': 'Monday', '2': 'Tuesday', 3: 'Wednesday'}\n",
                "print(days)\n",
                "print(type(days))\n",
                "print(id(days))\n",
                "print(days.keys())\n",
                "print(days.values())\n",
                "print(days[3])"
            ]
        },
        {
            "cell_type": "code",
            "execution_count": 14,
            "metadata": {},
            "outputs": [
                {
                    "name": "stdout",
                    "output_type": "stream",
                    "text": [
                        "{'apple': 24, 'orange': 30, 'banana': 40}\n",
                        "{'apple': 24, 'orange': 40, 'banana': 40}\n",
                        "{'apple': 30, 'orange': 40, 'banana': 40}\n",
                        "{'apple': 30, 'orange': 40, 'banana': 40, 'lemon': 60}\n",
                        "{'apple': 30, 'orange': 40, 'banana': 40, 'lemon': 60, 'apricot': 40}\n",
                        "None\n"
                    ]
                }
            ],
            "source": [
                "inventory = {'apple': 24, 'orange': 30, 'banana': 40}\n",
                "print(inventory)\n",
                "inventory['orange'] = 40  # modify, change\n",
                "print(inventory)\n",
                "inventory['apple'] = 30\n",
                "print(inventory)\n",
                "inventory['lemon'] = 60\n",
                "print(inventory)\n",
                "inventory = inventory | {'apricot': 40}\n",
                "print(inventory)\n",
                "print(inventory.get('mango'))"
            ]
        },
        {
            "cell_type": "markdown",
            "metadata": {},
            "source": [
                "## Sets\n",
                "This section demonstrates the use of sets in Python."
            ]
        },
        {
            "cell_type": "code",
            "execution_count": 15,
            "metadata": {},
            "outputs": [
                {
                    "name": "stdout",
                    "output_type": "stream",
                    "text": [
                        "{1, 2, 3}\n",
                        "<class 'set'>\n",
                        "1582347021088\n"
                    ]
                }
            ],
            "source": [
                "nums = {1, 2, 3}\n",
                "print(nums)\n",
                "print(type(nums))\n",
                "print(id(nums))"
            ]
        },
        {
            "cell_type": "code",
            "execution_count": 16,
            "metadata": {},
            "outputs": [
                {
                    "name": "stdout",
                    "output_type": "stream",
                    "text": [
                        "{1, 2, 3}\n",
                        "<class 'set'>\n",
                        "{1, 2, 3, 4}\n",
                        "{2, 3, 4}\n",
                        "{'friday', 'thursday', 'saturday', 'tuesday', 'wednesday', 'monday'}\n",
                        "['monday', 'tuesday', 'wednesday', 'thursday', 'friday', 'saturday']\n",
                        "{'friday', 'thursday', 'saturday', 'tuesday', 'wednesday', 'monday'}\n",
                        "['monday', 'tuesday', 'wednesday', 'thursday', 'friday', 'saturday']\n",
                        "None\n"
                    ]
                }
            ],
            "source": [
                "listNums = set([1, 2, 3])\n",
                "print(listNums)\n",
                "print(type(listNums))\n",
                "nums == listNums\n",
                "nums.add(4)\n",
                "print(nums)\n",
                "nums.pop()\n",
                "print(nums)\n",
                "days = {'monday', 'tuesday', 'wednesday', 'thursday', 'friday', 'saturday'}\n",
                "daysList = ['monday', 'tuesday', 'wednesday', 'thursday', 'friday', 'saturday']\n",
                "print(days)\n",
                "print(daysList)\n",
                "print(days)\n",
                "print(daysList)\n",
                "print(daysList.sort())"
            ]
        },
        {
            "cell_type": "markdown",
            "metadata": {},
            "source": [
                "## Conditional Statements\n",
                "This section demonstrates the use of conditional statements in Python."
            ]
        },
        {
            "cell_type": "code",
            "execution_count": 17,
            "metadata": {},
            "outputs": [
                {
                    "name": "stdout",
                    "output_type": "stream",
                    "text": [
                        "Executing else\n",
                        "Prints regardless of the outcome of the if-else block\n"
                    ]
                }
            ],
            "source": [
                "x = False\n",
                "if x:\n",
                "    print('Executing if')  # indentation is at level 1\n",
                "    print('Still in if')\n",
                "else:\n",
                "    print('Executing else')\n",
                "print('Prints regardless of the outcome of the if-else block')  # indentation is at level 0"
            ]
        },
        {
            "cell_type": "code",
            "execution_count": 18,
            "metadata": {},
            "outputs": [
                {
                    "name": "stdout",
                    "output_type": "stream",
                    "text": [
                        "Wait for a while\n"
                    ]
                }
            ],
            "source": [
                "purchasePrice = float(input('enter purchase price: '))\n",
                "currentPrice = float(input('current price of Bitcoin'))\n",
                "\n",
                "if currentPrice < purchasePrice:\n",
                "    print('not a good idea to sell')\n",
                "elif currentPrice > purchasePrice:\n",
                "    print('can sell')\n",
                "elif currentPrice == purchasePrice:\n",
                "    print('Wait for a while')\n",
                "else:\n",
                "    print('Wait for a while')"
            ]
        },
        {
            "cell_type": "code",
            "execution_count": 19,
            "metadata": {},
            "outputs": [
                {
                    "name": "stdout",
                    "output_type": "stream",
                    "text": [
                        "<class 'list'>\n",
                        "The fruit apple has index 0\n",
                        "The fruit banana has index 1\n",
                        "The fruit tomato has index 2\n",
                        "The fruit grapes has index 3\n"
                    ]
                }
            ],
            "source": [
                "fruitsList = ['apple', 'banana', 'tomato', 'grapes']  # list\n",
                "print(type(fruitsList))\n",
                "for var in fruitsList:\n",
                "    print('The fruit ' + var, 'has index', fruitsList.index(var))"
            ]
        },
        {
            "cell_type": "code",
            "execution_count": 20,
            "metadata": {},
            "outputs": [
                {
                    "name": "stdout",
                    "output_type": "stream",
                    "text": [
                        "<class 'set'>\n",
                        "apricot\n",
                        "orange\n",
                        "Lemon\n",
                        "apple\n"
                    ]
                }
            ],
            "source": [
                "fruitsSet = {'apple', 'apricot', 'orange', 'Lemon'}\n",
                "print(type(fruitsSet))\n",
                "for fruit in fruitsSet:\n",
                "    print(fruit)"
            ]
        },
        {
            "cell_type": "code",
            "execution_count": 21,
            "metadata": {},
            "outputs": [
                {
                    "name": "stdout",
                    "output_type": "stream",
                    "text": [
                        "0 squared is 0\n",
                        "1 squared is 1\n",
                        "2 squared is 4\n",
                        "3 squared is 9\n",
                        "4 squared is 16\n",
                        "5 squared is 25\n",
                        "6 squared is 36\n",
                        "7 squared is 49\n",
                        "8 squared is 64\n",
                        "9 squared is 81\n"
                    ]
                }
            ],
            "source": [
                "numbersList = list(range(10))\n",
                "for num in numbersList:\n",
                "    squared = num ** 2\n",
                "    print(num, 'squared is', squared)"
            ]
        },
        {
            "cell_type": "code",
            "execution_count": 22,
            "metadata": {},
            "outputs": [
                {
                    "name": "stdout",
                    "output_type": "stream",
                    "text": [
                        "Out of while loop\n"
                    ]
                }
            ],
            "source": [
                "n = 6\n",
                "while n < 5:\n",
                "    print('Executing while loop')\n",
                "    n = n + 1\n",
                "print('Out of while loop')"
            ]
        },
        {
            "cell_type": "markdown",
            "metadata": {},
            "source": [
                "## Errors and Exceptions\n",
                "This section demonstrates error handling in Python."
            ]
        },
        {
            "cell_type": "code",
            "execution_count": 23,
            "metadata": {},
            "outputs": [
                {
                    "ename": "SyntaxError",
                    "evalue": "invalid syntax (2565612509.py, line 1)",
                    "output_type": "error",
                    "traceback": [
                        "\u001b[1;36m  Cell \u001b[1;32mIn[23], line 1\u001b[1;36m\u001b[0m\n\u001b[1;33m    while 4 > 5 print('Hello world')\u001b[0m\n\u001b[1;37m                ^\u001b[0m\n\u001b[1;31mSyntaxError\u001b[0m\u001b[1;31m:\u001b[0m invalid syntax\n"
                    ]
                }
            ],
            "source": [
                "while 4 > 5 print('Hello world')"
            ]
        },
        {
            "cell_type": "code",
            "execution_count": null,
            "metadata": {},
            "outputs": [],
            "source": [
                "'2' + 2"
            ]
        },
        {
            "cell_type": "code",
            "execution_count": null,
            "metadata": {},
            "outputs": [],
            "source": [
                "10 * (1 / 0)"
            ]
        },
        {
            "cell_type": "code",
            "execution_count": null,
            "metadata": {},
            "outputs": [],
            "source": [
                "4 + spam * 3"
            ]
        },
        {
            "cell_type": "code",
            "execution_count": null,
            "metadata": {},
            "outputs": [],
            "source": [
                "while True:\n",
                "    try:\n",
                "        x = int(input('please enter a number: '))\n",
                "        break\n",
                "    except:\n",
                "        print('This is not a valid number')"
            ]
        },
        {
            "cell_type": "code",
            "execution_count": null,
            "metadata": {},
            "outputs": [],
            "source": [
                "a = 1\n",
                "b = int(input('please enter a number: '))\n",
                "if b == 0:\n",
                "    raise ZeroDivisionError('Cannot divide by zero!')\n",
                "print(a / b)"
            ]
        },
        {
            "cell_type": "code",
            "execution_count": null,
            "metadata": {},
            "outputs": [],
            "source": [
                "try:\n",
                "    numerator = 10\n",
                "    denominator = 0\n",
                "    result = numerator / denominator\n",
                "    print(result)\n",
                "except ZeroDivisionError:\n",
                "    print('Denominator cannot be zero')"
            ]
        },
        {
            "cell_type": "code",
            "execution_count": null,
            "metadata": {},
            "outputs": [],
            "source": [
                "dict1 = {1: 'google', 2: 'firefox', 3: 'opera'}\n",
                "print(dict1)\n",
                "print(id(dict1))\n",
                "updateDict = {3: 'Ms Edge'}\n",
                "dict1.update(updateDict)\n",
                "print(dict1)\n",
                "print(id(dict1))"
            ]
        },
        {
            "cell_type": "code",
            "execution_count": null,
            "metadata": {},
            "outputs": [],
            "source": [
                "import math\n",
                "\n",
                "print(type(math.pi))"
            ]
        },
        {
            "cell_type": "code",
            "execution_count": 25,
            "metadata": {},
            "outputs": [
                {
                    "name": "stdout",
                    "output_type": "stream",
                    "text": [
                        "Last commit date/time (ISO 8601): 2025-10-18T16:12:29+05:30\n"
                    ]
                }
            ],
            "source": [
                "import tempfile\n",
                "import subprocess\n",
                "import shutil\n",
                "import sys\n",
                "import os\n",
                "\n",
                "repo_url = input(\"Enter git repo URL: \").strip()\n",
                "if not repo_url:\n",
                "    print(\"No URL provided.\")\n",
                "    raise SystemExit(1)\n",
                "\n",
                "tmp_dir = tempfile.mkdtemp(prefix=\"repo_clone_\")\n",
                "try:\n",
                "    # Clone shallowly to save time and bandwidth\n",
                "    clone_cmd = [\"git\", \"clone\", \"--depth\", \"1\", repo_url, tmp_dir]\n",
                "    try:\n",
                "        res = subprocess.run(clone_cmd, capture_output=True, text=True, timeout=120)\n",
                "    except FileNotFoundError:\n",
                "        print(\"git is not installed or not found in PATH.\")\n",
                "        raise\n",
                "    except subprocess.TimeoutExpired:\n",
                "        print(\"Cloning timed out.\")\n",
                "        raise\n",
                "\n",
                "    if res.returncode != 0:\n",
                "        print(\"Failed to clone repository:\")\n",
                "        print(res.stderr.strip())\n",
                "        raise SystemExit(res.returncode)\n",
                "\n",
                "    # Get last commit date/time in ISO 8601 (committer date)\n",
                "    log_cmd = [\"git\", \"-C\", tmp_dir, \"log\", \"-1\", \"--format=%cI\"]\n",
                "    res = subprocess.run(log_cmd, capture_output=True, text=True)\n",
                "    if res.returncode != 0:\n",
                "        print(\"Failed to get last commit info:\")\n",
                "        print(res.stderr.strip())\n",
                "        raise SystemExit(res.returncode)\n",
                "\n",
                "    last_commit_iso = res.stdout.strip()\n",
                "    if last_commit_iso:\n",
                "        print(\"Last commit date/time (ISO 8601):\", last_commit_iso)\n",
                "    else:\n",
                "        print(\"No commits found in repository.\")\n",
                "finally:\n",
                "    # Clean up the cloned repository\n",
                "    try:\n",
                "        shutil.rmtree(tmp_dir)\n",
                "    except Exception:\n",
                "        pass"
            ]
        }
    ],
    "metadata": {
        "kernelspec": {
            "display_name": "Python 3",
            "language": "python",
            "name": "python3"
        },
        "language_info": {
            "codemirror_mode": {
                "name": "ipython",
                "version": 3
            },
            "file_extension": ".py",
            "mimetype": "text/x-python",
            "name": "python",
            "nbconvert_exporter": "python",
            "pygments_lexer": "ipython3",
            "version": "3.11.4"
        }
    },
    "nbformat": 4,
    "nbformat_minor": 4
}
